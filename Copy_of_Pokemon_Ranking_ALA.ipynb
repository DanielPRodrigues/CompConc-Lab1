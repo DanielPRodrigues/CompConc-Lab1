{
  "nbformat": 4,
  "nbformat_minor": 0,
  "metadata": {
    "colab": {
      "provenance": [],
      "include_colab_link": true
    },
    "kernelspec": {
      "name": "python3",
      "display_name": "Python 3"
    },
    "accelerator": "GPU"
  },
  "cells": [
    {
      "cell_type": "markdown",
      "metadata": {
        "id": "view-in-github",
        "colab_type": "text"
      },
      "source": [
        "<a href=\"https://colab.research.google.com/github/DanielPRodrigues/CompConc-Lab1/blob/main/Copy_of_Pokemon_Ranking_ALA.ipynb\" target=\"_parent\"><img src=\"https://colab.research.google.com/assets/colab-badge.svg\" alt=\"Open In Colab\"/></a>"
      ]
    },
    {
      "cell_type": "markdown",
      "metadata": {
        "id": "FEC9M0SORGxV"
      },
      "source": [
        "#PROJETO DE RANKEAMENTO DE POKÉMONS\n",
        "\n",
        "**Nome: Daniel Pinheiro Rodrigues**\n",
        "\n",
        "**DRE:118019420**\n",
        "\n",
        "![Pokemons](https://images3.alphacoders.com/648/648624.jpg)\n",
        "\n",
        "O projeto baseia-se no jogo Pokémon, e tem como objetivo rankear os pokémons com base nos seus tipos, em uma matriz que os relaciona, já fornecida pelo jogo, utilizando **Mínimos Quadrados** para achar um valor aproximado e imprimir na tela do melhor ao pior pokémon, dividindo em uma \"tier list\" (quanto mais baixo o número do tier, melhor o pokémon).\n",
        "\n",
        "A idéia é o usuário escrever os nomes dos pokemóns que deseja rankear, após isso o programa os divide em \"tiers\", utilizando um banco de dados com toda a pokedéx (lista completa de pokemóns). Caso o usuário queira, também é possível rankear pokémons aleatórios.\n",
        "\n",
        "É importante deixar claro que o programa rankeia os pokemóns com base apenas no tipo, ou seja, conjunto de golpes, status, natureza e outros atributos do jogo não são levados em consideração.\n",
        "\n",
        "#MATRIZ DE TIPOS\n",
        "\n",
        "![Matriz](https://i.stack.imgur.com/geHm4.jpg)\n",
        "\n",
        "#COMO FUNCIONAM AS RELAÇÕES\n",
        "\n",
        "No exemplo abaixo, podemos ver um sitema impossível, que é algo que acontece de forma recorrente no jogo.\n",
        "\n",
        "![Exemplo equação](https://i.imgur.com/F4IwqHL.png)\n",
        "\n",
        "Um exemplo disso, é um pokémon de **fogo**, que é forte contra **grama** e fraco contra **água**, porém um pokémon de **grama** será mais forte que um de **água**. Por isso a necessidade do uso de **Mínimos Quadrados**, para aproximar um valor e rankeá-los de forma eficiente.\n",
        "\n"
      ]
    },
    {
      "cell_type": "markdown",
      "metadata": {
        "id": "J_nRw787P-gT"
      },
      "source": [
        "#CRIANDO A MATRIZ QUE RELACIONA OS POKÉMONS\n",
        "\n",
        "![alt text](https://people.rit.edu/dap4092/230/project1/media/types.png)\n",
        "\n"
      ]
    },
    {
      "cell_type": "code",
      "metadata": {
        "id": "n58QjvpOnZuO"
      },
      "source": [
        "import sympy as sym\n",
        "import numpy as np\n",
        "\n",
        "def create_type2index():\n",
        "  type2index = {}\n",
        "  type2index['normal']  = 0\n",
        "  type2index['fighting']   = 1\n",
        "  type2index['flying']= 2\n",
        "  type2index['poison']= 3\n",
        "  type2index['ground'] = 4\n",
        "  type2index['rock'] = 5\n",
        "  type2index['bug'] = 6\n",
        "  type2index['ghost'] = 7\n",
        "  type2index['steel'] = 8\n",
        "  type2index['fire'] = 9\n",
        "  type2index['water'] = 10\n",
        "  type2index['grass'] = 11\n",
        "  type2index['electric'] = 12\n",
        "  type2index['psychic'] = 13\n",
        "  type2index['ice'] = 14\n",
        "  type2index['dragon'] = 15\n",
        "  type2index['dark'] = 16\n",
        "  type2index['fairy'] = 17\n",
        "\n",
        "  index2type = {}\n",
        "\n",
        "  for key in type2index:\n",
        "    index2type[type2index[key]] = key\n",
        "\n",
        "  return type2index, index2type\n",
        "\n",
        "def create_ATK_DEF(type2index):\n",
        "\n",
        "  # A matriz Attack funciona da seguinte maneira:\n",
        "  # A coordenada - a,b - diz a vantagem de ataque do\n",
        "  # pokemon 'a' no pokemon 'b'.\n",
        "\n",
        "  # A matriz Defense funciona da seguinte maneira:\n",
        "  # A coordenada - a,b - diz a vantagem de defesa do\n",
        "  # pokemon 'a' no pokemon 'b'.\n",
        "\n",
        "  #A matriz Defense é a matriz transposta da Attack\n",
        "\n",
        "  Attack=np.arange(324).reshape(18,18)\n",
        "\n",
        "  Attack[0,:]  = ([0,0,0,0,0,-1,0,-2,-1,0,0,0,0,0,0,0,0,0])\n",
        "  Attack[1,:]  = ([1,0,-1,-1,0,1,-1,-2,1,0,0,0,0,-1,1,0,1,-1])\n",
        "  Attack[2,:]  = ([0,1,0,0,0,-1,1,0,-1,0,0,1,-1,0,0,0,0,0])\n",
        "  Attack[3,:]  = ([0,0,0,-1,-1,-1,0,-1,-2,0,0,1,0,0,0,0,0,1])\n",
        "  Attack[4,:]  = ([0,0,-2,1,0,1,-1,0,1,1,0,-1,1,0,0,0,0,0])\n",
        "  Attack[5,:]  = ([0,-1,1,0,-1,0,1,0,-1,1,0,0,0,0,1,0,0,0])\n",
        "  Attack[6,:]  = ([0,-1,-1,-1,0,0,0,-1,-1,-1,0,1,0,1,0,0,1,-1])\n",
        "  Attack[7,:]  = ([-2,0,0,0,0,0,0,1,0,0,0,0,0,1,0,0,-1,0])\n",
        "  Attack[8,:]  = ([0,0,0,0,0,1,0,0,-1,-1,-1,0,-1,0,1,0,0,1])\n",
        "  Attack[9,:]  = ([0,0,0,0,0,-1,1,0,1,-1,-1,1,0,0,1,-1,0,0])\n",
        "  Attack[10,:] = ([0,0,0,0,1,1,0,0,0,1,-1,-1,0,0,0,-1,0,0])\n",
        "  Attack[11,:] = ([0,0,-1,-1,1,1,-1,0,-1,0,1,-1,0,0,0,-1,0,0])\n",
        "  Attack[12,:] = ([0,0,1,0,-2,0,0,0,0,0,1,-1,-1,0,0,-1,0,0])\n",
        "  Attack[13,:] = ([0,1,0,1,0,0,0,0,-1,0,0,0,0,-1,0,0,-2,0])\n",
        "  Attack[14,:] = ([0,0,1,0,1,0,0,0,-1,-1,-1,1,0,0,-1,1,0,0])\n",
        "  Attack[15,:] = ([0,0,0,0,0,0,0,0,-1,0,0,0,0,0,0,1,0,-2])\n",
        "  Attack[16,:] = ([0,-1,0,0,0,0,0,1,0,0,0,0,0,1,0,0,-1,-1])\n",
        "  Attack[17,:] = ([0,1,0,-1,0,0,0,0,-1,-1,0,0,0,0,0,1,1,0])\n",
        "\n",
        "  Defense = (-1)*np.transpose(Attack)\n",
        "  return Attack, Defense"
      ],
      "execution_count": 27,
      "outputs": []
    },
    {
      "cell_type": "markdown",
      "metadata": {
        "id": "HFX-ye_cQG2X"
      },
      "source": [
        "#TESTANDO O FUNCIONAMENTO DA MATRIZ"
      ]
    },
    {
      "cell_type": "code",
      "metadata": {
        "id": "cSmhYJbjngxf",
        "colab": {
          "base_uri": "https://localhost:8080/"
        },
        "outputId": "6c3e8014-411a-42f7-c82f-8341dce383ac"
      },
      "source": [
        "type2index, index2type = create_type2index()\n",
        "ATK_Matrix, DEF_Matrix = create_ATK_DEF(type2index)\n",
        "\n",
        "def type_ATK_relations(tipo, index2type, ATK_Matrix):\n",
        "  for key in index2type:\n",
        "    print(tipo, ' atk ', index2type[key], ' -> ', ATK_Matrix[type2index[tipo], key])\n",
        "\n",
        "def type_DEF_relations(tipo, index2type, ATK_Matrix):\n",
        "  for key in index2type:\n",
        "    print(tipo, ' def ', index2type[key], ' -> ', DEF_Matrix[type2index[tipo], key])\n",
        "\n",
        "type_DEF_relations('bug', index2type, ATK_Matrix)"
      ],
      "execution_count": 28,
      "outputs": [
        {
          "output_type": "stream",
          "name": "stdout",
          "text": [
            "bug  def  normal  ->  0\n",
            "bug  def  fighting  ->  1\n",
            "bug  def  flying  ->  -1\n",
            "bug  def  poison  ->  0\n",
            "bug  def  ground  ->  1\n",
            "bug  def  rock  ->  -1\n",
            "bug  def  bug  ->  0\n",
            "bug  def  ghost  ->  0\n",
            "bug  def  steel  ->  0\n",
            "bug  def  fire  ->  -1\n",
            "bug  def  water  ->  0\n",
            "bug  def  grass  ->  1\n",
            "bug  def  electric  ->  0\n",
            "bug  def  psychic  ->  0\n",
            "bug  def  ice  ->  0\n",
            "bug  def  dragon  ->  0\n",
            "bug  def  dark  ->  0\n",
            "bug  def  fairy  ->  0\n"
          ]
        }
      ]
    },
    {
      "cell_type": "markdown",
      "metadata": {
        "id": "3XK9EL28WLlR"
      },
      "source": [
        "# TRATANDO A DATABASE DE POKÉMONS\n",
        "\n",
        "Nesse momento será acessado a database dos pokémons, com uma lista com todos eles, incluindo seus tipos.\n",
        "O código abaixo basicamente acessa os nomes de maneira rápida (pois escrever o banco de dados manualmente levaria muito tempo), usando algumas linhas de código para facilitar o processo, como permitir que o usuário escreva os nomes dos pokémons em letra minúscula.\n",
        "\n",
        "![Pokedex](http://plume.toucantoco.com/wp-content/uploads/2016/07/Capture-d%E2%80%99e%CC%81cran-2016-07-19-a%CC%80-15.27.31.png)"
      ]
    },
    {
      "cell_type": "code",
      "metadata": {
        "id": "a_avAgyHOWoi"
      },
      "source": [
        "import json\n",
        "from pprint import pprint\n",
        "\n",
        "def get_poke2types():\n",
        "  poke2types = {}\n",
        "  with open(\"pokedex_raw_array.json\") as f:\n",
        "    pokedex = json.loads(f.read())\n",
        "    for pokemon_dict in pokedex:\n",
        "      poke2types[pokemon_dict[\"name\"].lower()] = [t[\"name\"] for t in pokemon_dict[\"types\"]]\n",
        "  return poke2types\n",
        "poke2types = get_poke2types()"
      ],
      "execution_count": 29,
      "outputs": []
    },
    {
      "cell_type": "markdown",
      "metadata": {
        "id": "PyeG_Fd-WO5H"
      },
      "source": [
        "# IMPLEMENTANDO O PROGRAMA\n",
        "\n",
        "![Long Johnson](https://static1.fjcdn.com/comments/Oh+long+johnson+_9383bbf77466c63e28bac933f133615f.jpg)\n",
        "\n"
      ]
    },
    {
      "cell_type": "code",
      "metadata": {
        "id": "-OiiyE6QftxR"
      },
      "source": [
        "def gauss_jordan(C):\n",
        "\n",
        "  [m, n] = C.shape\n",
        "  k = 0\n",
        "\n",
        "  for j in range(n):\n",
        "    pivot = -1\n",
        "\n",
        "    for i in range(k, m):\n",
        "      if(C[i, j] != 0):\n",
        "        pivot = i\n",
        "        break\n",
        "\n",
        "    if(pivot != -1):\n",
        "      temp = C[pivot, :]/C[pivot, j]\n",
        "      C[pivot, :] = C[k, :]\n",
        "      C[k, :] = temp\n",
        "\n",
        "      k += 1\n",
        "\n",
        "      for i in range(m):\n",
        "        if(i != pivot):\n",
        "          C[i, :] -= C[i, j]*C[pivot, :]\n",
        "\n",
        "  return C[:,n-1]"
      ],
      "execution_count": 30,
      "outputs": []
    },
    {
      "cell_type": "markdown",
      "metadata": {
        "id": "W3K5QiUJ0gQb"
      },
      "source": [
        "A partir daqui começa efetivamente o algoritmo de rankeamento de pokémons. A maneira como ele funciona é relativamente intuitiva. Como entrada, o programa receberá uma lista de pokemons. A partir daí, é montado um sistema de equações da seguinte maneira:\n",
        "\n",
        "Vamos supor que a lista de pokémons foi ['Pikachu', 'Raichu', 'Groudon'].\n",
        "\n",
        "Os Tipos de cada um são:\n",
        "\n",
        "*Pikachu -> Electric*\n",
        "\n",
        "*Raichu   -> Electric*\n",
        "\n",
        "*Groudon -> Ground*\n",
        "\n",
        "A maneira como calculamos a relação entre dois pokemons é basicamente o quanto o primeiro tem vantagem atacando o segundo, menos o quanto o segundo tem vantagem atacando o primeiro, assim, sabendo que o tipo Ground tem vantagem contra o tipo Electric, as relações ficariam:\n",
        "\n",
        "Pikachu vs Raichu = Ataque(Pikachu -> Raichu) - Ataque(Raichu -> Pikachu) = (-1) - (-1) = 0\n",
        "\n",
        "Pikachu vs Groudon = Ataque(Pikachu -> Groudon) - Ataque(Groudon -> Pikachu) = (-2) - (1) = -3\n",
        "\n",
        "Raichu vs Groudon = Ataque(Raichu -> Groudon) - Ataque(Groudon -> Raichu) = (-2) - (1) = -3\n",
        "\n",
        "Então, se tratassemos Pikachu, Raichu e Groudon como sendo pokemons A, B e C, respectivamente, as relações ficariam:\n",
        "\n",
        "A = B + 0 | A = C - 3 | B = C - 3\n",
        "\n",
        "Isso pode ser reorganizado como:\n",
        "\n",
        "(1)A + (-1)B + (0)C = 0\n",
        "\n",
        "(1)A + (0)B  + (-1)C = -3\n",
        "\n",
        "(0)A + (1)B  + (-1)C = -3\n",
        "\n",
        "Logo, isso pode ser escrito como um sistema matricial, onde estaremos procurando o vetor [A,B,C] que resolve essa equação.\n",
        "\n",
        "No entanto, note que estamos pegando todas as combinações de 'duplas' de pokemons para fazermos as relações. Ou seja, pegamos (Pikachu, Raichu), (Pikachu, Groudon) e (Raichu, Groudon). Com apenas três pokemons, o sistema não ficou tão grande, mas se tentarmos generalizar essa ideia, o número e equações que teremos no sistema dado uma lista de n pokemons é dada por:\n",
        "\n",
        "(n² - n)/2\n",
        "\n",
        "Logo, muito provavelmente esse sistema de equações será um sistema impossível de ser resolvido de maneira exata. Assim, iremos usar um método conhecido como mínimos quadrados.\n",
        "\n",
        "A ideia desse método é puramente algebrica. Vamos supor que temos um sistema matricial da seguinte maneira:\n",
        "\n",
        "Ax = b , sendo A uma matriz de transformação, x o vetor que queremos encontrar e b o vetor resposta. No entanto, como esse é um sistema impossível por suposição, b não está no espaço de imagem dessa matriz... logo, teremos que achar a projeção dele nesse espaço.\n",
        "\n",
        "Vamos chamar a projeção dele nesse espaço de Ay, que será o novo vetor que vamos tentar achar. O que sabemos é que este vetor menos o vetor b vai dar pra gente o vetor distancia entre os dois:\n",
        "\n",
        "Ay - b = Distancia de b e Ay, em resumo, é o \"erro\" da nossa projeção, o quanto o nosso resultado aproximado é diferente do resultado original. E sabemos que esse vetor tem que ser perpendicular a todos os vetores da matriz, logo, se A.t = transposta de A:\n",
        "\n",
        "A.t(Ay - b) = 0\n",
        "\n",
        "A.t(Ay) = A.t(b)\n",
        "\n",
        "E, com isso, nós conseguimos reduzir o sistema impossível em um sistema possível de ser resolvido. A partir daí, rodamos o algorítmo de Gauss-Jordan, ou você pode usar qualquer outro metódo de resolução de sistemas lineares.\n",
        "\n",
        "O vetor resposta que conseguirmos serão os \"Scores\" de cada pokemon. A partir disso printamos eles em Tiers.\n",
        "\n",
        "No caso acima, o resultado seria:\n",
        "\n",
        "![ex programa](https://i.imgur.com/fvQXnGy.png)\n",
        "\n",
        "\n",
        "\n"
      ]
    },
    {
      "cell_type": "code",
      "metadata": {
        "id": "L8BCfVLyR_U_",
        "colab": {
          "base_uri": "https://localhost:8080/"
        },
        "outputId": "1a430820-6ddc-4e2a-ae13-18c13bc926d2"
      },
      "source": [
        "\n",
        "\n",
        "def search_max(vector):\n",
        "  max = -10000\n",
        "  index_max = 0\n",
        "\n",
        "  for i in range(len(vector)):\n",
        "    if vector[i] > max:\n",
        "      max = vector[i]\n",
        "      index_max = i\n",
        "\n",
        "  return index_max\n",
        "\n",
        "def get_relation(pokemon1, pokemon2, poke2type):\n",
        "\n",
        "  types1 = poke2type[pokemon1]\n",
        "  types2 = poke2type[pokemon2]\n",
        "\n",
        "  relacao = 0\n",
        "\n",
        "  for i in range(len(types1)):\n",
        "    for j in range(len(types2)):\n",
        "      relacao += ATK_Matrix[type2index[types1[i]], type2index[types2[j]]]\n",
        "  for i in range(len(types2)):\n",
        "    for j in range(len(types1)):\n",
        "      relacao -= ATK_Matrix[type2index[types2[i]], type2index[types1[j]]]\n",
        "\n",
        "  return relacao\n",
        "\n",
        "def rankear_pokemons(pokemon_list, poke2type):\n",
        "\n",
        "  n = len(pokemon_list)\n",
        "\n",
        "  num_equ = int(((n*n) - n)/2)\n",
        "\n",
        "  A = np.arange(n*(num_equ)).reshape(num_equ,n)\n",
        "  B = np.arange(num_equ).reshape(num_equ,1)\n",
        "\n",
        "  count = 0\n",
        "  for i in range(n):\n",
        "    for j in range(i+1,n,1):\n",
        "      vetor = np.zeros(n)\n",
        "      vetor[i] = 1\n",
        "      vetor[j] = -1\n",
        "\n",
        "      A[count,:] = vetor\n",
        "\n",
        "      relation = get_relation(pokemon_list[i], pokemon_list[j], poke2type)\n",
        "      B[count] = relation\n",
        "\n",
        "      count += 1\n",
        "\n",
        "\n",
        "  matrix_GJ = np.transpose(A)@A\n",
        "  result_GJ = np.transpose(A)@B\n",
        "  matrix_GJ = np.append(matrix_GJ, result_GJ, axis = 1)\n",
        "  score_vec = gauss_jordan(matrix_GJ)\n",
        "\n",
        "\n",
        "  for i in range(1,len(pokemon_list),1):\n",
        "    for j in range(len(pokemon_list)-i):\n",
        "      if score_vec[j] < score_vec[j+1]:\n",
        "        aux = score_vec[j]\n",
        "        score_vec[j] = score_vec[j+1]\n",
        "        score_vec[j+1] = aux\n",
        "\n",
        "        aux = pokemon_list[j]\n",
        "        pokemon_list[j] = pokemon_list[j+1]\n",
        "        pokemon_list[j+1] = aux\n",
        "\n",
        "\n",
        "  ultimo_score_lido = score_vec[0]\n",
        "  tier_atual = 1\n",
        "  print('Tier ', tier_atual,': ')\n",
        "  for i in range(len(pokemon_list)):\n",
        "    if score_vec[i] != ultimo_score_lido:\n",
        "      ultimo_score_lido = score_vec[i]\n",
        "      tier_atual += 1\n",
        "      print('Tier ', tier_atual,': ')\n",
        "    print('\\t',pokemon_list[i])\n",
        "  return\n",
        "\n",
        "\n",
        "from random import randint\n",
        "\n",
        "pokemon_list = []\n",
        "\n",
        "i = 0\n",
        "for pokemon in poke2types:\n",
        "  random = randint(0,80)\n",
        "  if random == 10:\n",
        "    i += 1\n",
        "    pokemon_list.append(pokemon)\n",
        "  if i == 10:\n",
        "    break\n",
        "#rankear_pokemons(pokemon_list, poke2types)   #rankeia ate 10 pokemons aleatorios\n",
        "\n",
        "pokemon_list=['charizard','squirtle']\n",
        "rankear_pokemons(pokemon_list, poke2types)    #rankeia pokemons escolhidos pelo usuario"
      ],
      "execution_count": 40,
      "outputs": [
        {
          "output_type": "stream",
          "name": "stdout",
          "text": [
            "Tier  1 : \n",
            "\t squirtle\n",
            "Tier  2 : \n",
            "\t charizard\n"
          ]
        }
      ]
    },
    {
      "cell_type": "markdown",
      "metadata": {
        "id": "xGld2q8HkU8K"
      },
      "source": [
        "#CONSIDERAÇÕES FINAIS\n",
        "\n",
        "![alt text](http://images6.fanpop.com/image/photos/40800000/Mew-VS-Mewtwo-mew-the-pokemon-40820172-600-502.jpg)\n",
        "\n",
        "Após todo o processo de criação do código, o resultado final foi bem satisfatório, pois ele está cumprindo bem com o objetivo do programa. O projeto foi divertido até certo ponto pois pude trabalhar com um jogo que eu gosto, além de aprofundar meus conhecimentos de álgebra linear e programação. A maior dificuldade do programa foi executar os algorítmos, pois a matriz usada pelo jogo é relativamente grande e exige diversas operações de matrizes, utilizando processos como Gauss Jordan e Mínimos Quadrados.\n",
        "\n"
      ]
    }
  ]
}